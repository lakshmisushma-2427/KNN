{
  "nbformat": 4,
  "nbformat_minor": 0,
  "metadata": {
    "colab": {
      "name": "KNearest Neighbors",
      "provenance": [],
      "collapsed_sections": [],
      "include_colab_link": true
    },
    "kernelspec": {
      "name": "python3",
      "display_name": "Python 3"
    }
  },
  "cells": [
    {
      "cell_type": "markdown",
      "metadata": {
        "id": "view-in-github",
        "colab_type": "text"
      },
      "source": [
        "<a href=\"https://colab.research.google.com/github/lakshmisushma-2427/lakshmisushma/blob/main/KNearest_Neighbors.ipynb\" target=\"_parent\"><img src=\"https://colab.research.google.com/assets/colab-badge.svg\" alt=\"Open In Colab\"/></a>"
      ]
    },
    {
      "cell_type": "code",
      "metadata": {
        "id": "v-YRjHSYyVUY"
      },
      "source": [
        "import pandas as pd"
      ],
      "execution_count": null,
      "outputs": []
    },
    {
      "cell_type": "code",
      "metadata": {
        "id": "eR4hpoPwzi6A",
        "colab": {
          "base_uri": "https://localhost:8080/",
          "height": 133
        },
        "outputId": "dd5e296a-b6a2-4c01-98bb-17b72a9b3264"
      },
      "source": [
        "data=pd.read_csv(\"/content/Cars.csv\")\n",
        "print(data)"
      ],
      "execution_count": null,
      "outputs": [
        {
          "output_type": "stream",
          "text": [
            "   Sr.no   Color    Type    Origin Stolen(class)\n",
            "0      1     Red  Sports  Domestic           Yes\n",
            "1      2     Red  Sports  Domestic            No\n",
            "2      3     Red     SUV  Imported            No\n",
            "3      4  Yellow  Sports  Imported           Yes\n",
            "4      5  Yellow     SUV  Imported           Yes\n",
            "5      6     Red  Sports  Imported           Yes\n"
          ],
          "name": "stdout"
        }
      ]
    },
    {
      "cell_type": "code",
      "metadata": {
        "id": "QNNQ6UQIz2bO",
        "colab": {
          "base_uri": "https://localhost:8080/",
          "height": 83
        },
        "outputId": "b7ee7947-d624-4fcd-95f0-1af4cfd3d6ef"
      },
      "source": [
        "from sklearn import preprocessing\n",
        "#creating labelEncoder\n",
        "le = preprocessing.LabelEncoder()\n",
        "# Converting string labels into numbers.\n",
        "Color_encoded=le.fit_transform(data['Color'])\n",
        "Type_encoded=le.fit_transform(data['Type'])\n",
        "Origin_encoded=le.fit_transform(data['Origin'])\n",
        "label=le.fit_transform(data['Stolen(class)'])\n",
        "print (Color_encoded)\n",
        "print (Type_encoded)\n",
        "print (Origin_encoded)\n",
        "print (label)\n"
      ],
      "execution_count": null,
      "outputs": [
        {
          "output_type": "stream",
          "text": [
            "[0 0 0 1 1 0]\n",
            "[1 1 0 1 0 1]\n",
            "[0 0 1 1 1 1]\n",
            "[1 0 0 1 1 1]\n"
          ],
          "name": "stdout"
        }
      ]
    },
    {
      "cell_type": "code",
      "metadata": {
        "id": "hGEFy-5d2Kp5",
        "colab": {
          "base_uri": "https://localhost:8080/",
          "height": 33
        },
        "outputId": "166beebd-e338-44f6-f05f-3580927259f0"
      },
      "source": [
        "features=zip(Color_encoded,Type_encoded,Origin_encoded)\n",
        "f=list(features)\n",
        "print(f)\n"
      ],
      "execution_count": null,
      "outputs": [
        {
          "output_type": "stream",
          "text": [
            "[(0, 1, 0), (0, 1, 0), (0, 0, 1), (1, 1, 1), (1, 0, 1), (0, 1, 1)]\n"
          ],
          "name": "stdout"
        }
      ]
    },
    {
      "cell_type": "code",
      "metadata": {
        "id": "MsaIfw1O1Zkp",
        "colab": {
          "base_uri": "https://localhost:8080/",
          "height": 33
        },
        "outputId": "957cdfba-74d8-42b5-eb05-5909cbc944ba"
      },
      "source": [
        "from sklearn.neighbors import KNeighborsClassifier\n",
        "model = KNeighborsClassifier(n_neighbors=3)\n",
        "\n",
        "\n",
        "\n",
        "# Train the model using the training sets\n",
        "model.fit(f,label)\n",
        "\n",
        "#Predict Output\n",
        "predicted= model.predict([[1,1,0]]) # 1:Yellow, 1:Sports,0:Domestic\n",
        "print(predicted)"
      ],
      "execution_count": null,
      "outputs": [
        {
          "output_type": "stream",
          "text": [
            "[1]\n"
          ],
          "name": "stdout"
        }
      ]
    }
  ]
}